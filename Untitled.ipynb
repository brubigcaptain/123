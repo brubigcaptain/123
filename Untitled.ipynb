{
  "nbformat": 4,
  "nbformat_minor": 0,
  "metadata": {
    "colab": {
      "provenance": []
    },
    "kernelspec": {
      "name": "python3",
      "display_name": "Python 3"
    },
    "language_info": {
      "name": "python"
    }
  },
  "cells": [
    {
      "cell_type": "code",
      "execution_count": 6,
      "metadata": {
        "colab": {
          "base_uri": "https://localhost:8080/"
        },
        "id": "ic_kDJPI9li0",
        "outputId": "cd535db4-f658-4fe3-9d29-4ca68d443d9e"
      },
      "outputs": [
        {
          "output_type": "stream",
          "name": "stdout",
          "text": [
            "黃偉哲\n",
            "B1205026\n",
            "<class 'dict'>\n",
            "<class 'dict'>\n"
          ]
        }
      ],
      "source": [
        "a={'name': '黃偉哲'}\n",
        "b={'id number': 'B1205026' }\n",
        "print(a['name'])\n",
        "print(b['id number'])\n",
        "print(type(a))\n",
        "print(type(b))"
      ]
    }
  ]
}